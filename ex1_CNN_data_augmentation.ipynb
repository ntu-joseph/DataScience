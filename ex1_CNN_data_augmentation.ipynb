{
  "nbformat": 4,
  "nbformat_minor": 0,
  "metadata": {
    "colab": {
      "name": "ex1_CNN_data_augmentation.ipynb",
      "version": "0.3.2",
      "provenance": [],
      "collapsed_sections": []
    },
    "kernelspec": {
      "name": "python3",
      "display_name": "Python 3"
    },
    "accelerator": "GPU"
  },
  "cells": [
    {
      "cell_type": "markdown",
      "metadata": {
        "id": "view-in-github",
        "colab_type": "text"
      },
      "source": [
        "[View in Colaboratory](https://colab.research.google.com/github/ntu-joseph/DataScience/blob/master/ex1_CNN_data_augmentation.ipynb)"
      ]
    },
    {
      "metadata": {
        "id": "qjQnu80ijCa-",
        "colab_type": "text"
      },
      "cell_type": "markdown",
      "source": [
        "# CNN + Data Augmentation 練習"
      ]
    },
    {
      "metadata": {
        "id": "qbivP7xbNujz",
        "colab_type": "code",
        "colab": {
          "base_uri": "https://localhost:8080/",
          "height": 34
        },
        "outputId": "0404ac3d-c28f-44f3-e94d-c960f5822ab4"
      },
      "cell_type": "code",
      "source": [
        "# Check GPU\n",
        "import tensorflow as tf\n",
        "tf.test.gpu_device_name()"
      ],
      "execution_count": 19,
      "outputs": [
        {
          "output_type": "execute_result",
          "data": {
            "text/plain": [
              "'/device:GPU:0'"
            ]
          },
          "metadata": {
            "tags": []
          },
          "execution_count": 19
        }
      ]
    },
    {
      "metadata": {
        "id": "vjFmupouR8XP",
        "colab_type": "code",
        "colab": {}
      },
      "cell_type": "code",
      "source": [
        "# import package\n",
        "import keras\n",
        "from keras.datasets import cifar10\n",
        "from keras.preprocessing.image import ImageDataGenerator\n",
        "from keras.models import Sequential\n",
        "from keras.layers import Dense, Dropout, Activation, Flatten, BatchNormalization\n",
        "from keras.layers import Conv2D, MaxPooling2D\n",
        "import numpy as np\n",
        "import os"
      ],
      "execution_count": 0,
      "outputs": []
    },
    {
      "metadata": {
        "id": "kxBu1rarjRU0",
        "colab_type": "text"
      },
      "cell_type": "markdown",
      "source": [
        "## Cifar10 資料讀入及前處理"
      ]
    },
    {
      "metadata": {
        "id": "QYgqOHHNSGi2",
        "colab_type": "code",
        "colab": {
          "base_uri": "https://localhost:8080/",
          "height": 68
        },
        "outputId": "9c644b2c-2845-47da-ba11-805a876db33f"
      },
      "cell_type": "code",
      "source": [
        "# The data, split between train and test sets:\n",
        "(x_train, y_train), (x_test, y_test) = cifar10.load_data()\n",
        "\n",
        "x_train = x_train[:10000,:,:,:]\n",
        "y_train = y_train[:10000,]\n",
        "\n",
        "print('x_train shape:', x_train.shape)\n",
        "print(x_train.shape[0], 'train samples')\n",
        "print(x_test.shape[0], 'test samples')"
      ],
      "execution_count": 21,
      "outputs": [
        {
          "output_type": "stream",
          "text": [
            "x_train shape: (10000, 32, 32, 3)\n",
            "10000 train samples\n",
            "10000 test samples\n"
          ],
          "name": "stdout"
        }
      ]
    },
    {
      "metadata": {
        "id": "Q40s0Ia6SOAX",
        "colab_type": "code",
        "colab": {}
      },
      "cell_type": "code",
      "source": [
        "# image preprocessing\n",
        "x_train = x_train.astype('float32')\n",
        "x_test = x_test.astype('float32')\n",
        "\n",
        "x_train /= 255  # rescaling\n",
        "x_test /= 255  # rescaling"
      ],
      "execution_count": 0,
      "outputs": []
    },
    {
      "metadata": {
        "id": "GCIjH6hlSInp",
        "colab_type": "code",
        "colab": {
          "base_uri": "https://localhost:8080/",
          "height": 34
        },
        "outputId": "e7c8e83b-18bd-426c-e2bc-91dae44be537"
      },
      "cell_type": "code",
      "source": [
        "# Convert class vectors to binary class matrices.\n",
        "num_classes = 10\n",
        "y_train = keras.utils.to_categorical(y_train, num_classes)\n",
        "y_test = keras.utils.to_categorical(y_test, num_classes)\n",
        "print('y_train shape:', y_train.shape)"
      ],
      "execution_count": 23,
      "outputs": [
        {
          "output_type": "stream",
          "text": [
            "y_train shape: (10000, 10)\n"
          ],
          "name": "stdout"
        }
      ]
    },
    {
      "metadata": {
        "id": "9XztCjwBji51",
        "colab_type": "code",
        "colab": {}
      },
      "cell_type": "code",
      "source": [
        "## result's dictionary\n",
        "model_result = dict()\n",
        "model_result['acc'] = dict()\n",
        "model_result['loss'] = dict()\n",
        "model_result['val_acc'] = dict()\n",
        "model_result['val_loss'] = dict()"
      ],
      "execution_count": 0,
      "outputs": []
    },
    {
      "metadata": {
        "id": "hvxldzZ5jjpR",
        "colab_type": "text"
      },
      "cell_type": "markdown",
      "source": [
        "## 模型定義"
      ]
    },
    {
      "metadata": {
        "id": "HSwevVRwSKBK",
        "colab_type": "code",
        "colab": {
          "base_uri": "https://localhost:8080/",
          "height": 980
        },
        "outputId": "0ab00bdb-6944-4f72-8619-46c3e7d984c9"
      },
      "cell_type": "code",
      "source": [
        "#@title 默认标题文本 { vertical-output: true }\n",
        "# define model structure.\n",
        "model = Sequential()\n",
        "model.add(Conv2D(32, (3, 3), padding='same',\n",
        "                 input_shape=x_train.shape[1:]))\n",
        "print(x_train.shape[1:])\n",
        "model.add(BatchNormalization())\n",
        "model.add(Activation('relu'))\n",
        "model.add(Conv2D(32, (3, 3)))\n",
        "model.add(BatchNormalization())\n",
        "model.add(Activation('relu'))\n",
        "model.add(MaxPooling2D(pool_size=(2, 2)))\n",
        "model.add(Dropout(0.25))\n",
        "\n",
        "model.add(Conv2D(64, (3, 3), padding='same'))\n",
        "model.add(BatchNormalization())\n",
        "model.add(Activation('relu'))\n",
        "model.add(Conv2D(64, (3, 3)))\n",
        "model.add(BatchNormalization())\n",
        "model.add(Activation('relu'))\n",
        "model.add(MaxPooling2D(pool_size=(2, 2)))\n",
        "model.add(Dropout(0.25))\n",
        "\n",
        "model.add(Flatten())\n",
        "model.add(Dense(512))\n",
        "model.add(BatchNormalization())\n",
        "model.add(Activation('relu'))\n",
        "model.add(Dropout(0.25))\n",
        "model.add(Dense(num_classes))\n",
        "model.add(Activation('softmax'))\n",
        "\n",
        "print(model.summary())"
      ],
      "execution_count": 25,
      "outputs": [
        {
          "output_type": "stream",
          "text": [
            "(32, 32, 3)\n",
            "_________________________________________________________________\n",
            "Layer (type)                 Output Shape              Param #   \n",
            "=================================================================\n",
            "conv2d_13 (Conv2D)           (None, 32, 32, 32)        896       \n",
            "_________________________________________________________________\n",
            "batch_normalization_16 (Batc (None, 32, 32, 32)        128       \n",
            "_________________________________________________________________\n",
            "activation_19 (Activation)   (None, 32, 32, 32)        0         \n",
            "_________________________________________________________________\n",
            "conv2d_14 (Conv2D)           (None, 30, 30, 32)        9248      \n",
            "_________________________________________________________________\n",
            "batch_normalization_17 (Batc (None, 30, 30, 32)        128       \n",
            "_________________________________________________________________\n",
            "activation_20 (Activation)   (None, 30, 30, 32)        0         \n",
            "_________________________________________________________________\n",
            "max_pooling2d_7 (MaxPooling2 (None, 15, 15, 32)        0         \n",
            "_________________________________________________________________\n",
            "dropout_10 (Dropout)         (None, 15, 15, 32)        0         \n",
            "_________________________________________________________________\n",
            "conv2d_15 (Conv2D)           (None, 15, 15, 64)        18496     \n",
            "_________________________________________________________________\n",
            "batch_normalization_18 (Batc (None, 15, 15, 64)        256       \n",
            "_________________________________________________________________\n",
            "activation_21 (Activation)   (None, 15, 15, 64)        0         \n",
            "_________________________________________________________________\n",
            "conv2d_16 (Conv2D)           (None, 13, 13, 64)        36928     \n",
            "_________________________________________________________________\n",
            "batch_normalization_19 (Batc (None, 13, 13, 64)        256       \n",
            "_________________________________________________________________\n",
            "activation_22 (Activation)   (None, 13, 13, 64)        0         \n",
            "_________________________________________________________________\n",
            "max_pooling2d_8 (MaxPooling2 (None, 6, 6, 64)          0         \n",
            "_________________________________________________________________\n",
            "dropout_11 (Dropout)         (None, 6, 6, 64)          0         \n",
            "_________________________________________________________________\n",
            "flatten_4 (Flatten)          (None, 2304)              0         \n",
            "_________________________________________________________________\n",
            "dense_7 (Dense)              (None, 512)               1180160   \n",
            "_________________________________________________________________\n",
            "batch_normalization_20 (Batc (None, 512)               2048      \n",
            "_________________________________________________________________\n",
            "activation_23 (Activation)   (None, 512)               0         \n",
            "_________________________________________________________________\n",
            "dropout_12 (Dropout)         (None, 512)               0         \n",
            "_________________________________________________________________\n",
            "dense_8 (Dense)              (None, 10)                5130      \n",
            "_________________________________________________________________\n",
            "activation_24 (Activation)   (None, 10)                0         \n",
            "=================================================================\n",
            "Total params: 1,253,674\n",
            "Trainable params: 1,252,266\n",
            "Non-trainable params: 1,408\n",
            "_________________________________________________________________\n",
            "None\n"
          ],
          "name": "stdout"
        }
      ]
    },
    {
      "metadata": {
        "id": "dtPtV8bwSMO7",
        "colab_type": "code",
        "colab": {}
      },
      "cell_type": "code",
      "source": [
        "# initiate optimizer\n",
        "opt = keras.optimizers.adam()\n",
        "\n",
        "model.compile(loss='categorical_crossentropy',\n",
        "              optimizer=opt,\n",
        "              metrics=['accuracy'])"
      ],
      "execution_count": 0,
      "outputs": []
    },
    {
      "metadata": {
        "id": "Ldw-zoshjx38",
        "colab_type": "text"
      },
      "cell_type": "markdown",
      "source": [
        "## Data Augmentation 參數設置"
      ]
    },
    {
      "metadata": {
        "id": "lJVCV4ApSEmI",
        "colab_type": "code",
        "colab": {}
      },
      "cell_type": "code",
      "source": [
        "#@title Hyperparameter Setting { vertical-output: true }\n",
        "data_augmentation = True #@param {type:\"boolean\"}\n",
        "batch_size = 32 #@param {type:\"integer\"}\n",
        "epochs = 15 #@param {type:\"integer\"}\n"
      ],
      "execution_count": 0,
      "outputs": []
    },
    {
      "metadata": {
        "id": "rQMaX4XISPrO",
        "colab_type": "code",
        "colab": {}
      },
      "cell_type": "code",
      "source": [
        "#@title Data Augmentation Parameter Setting { vertical-output: true }\n",
        "if data_augmentation:\n",
        "  featurewise_center = False #@param {type:\"boolean\"}\n",
        "  samplewise_center = False #@param {type:\"boolean\"}\n",
        "  featurewise_std_normalization = False #@param {type:\"boolean\"}\n",
        "  samplewise_std_normalization = False #@param {type:\"boolean\"}\n",
        "  rotation_range = 7 #@param {type:\"slider\", min:0, max:180, step:1}\n",
        "  width_shift_range = 0.1 #@param {type:\"slider\", min:0, max:1, step:0.01}\n",
        "  height_shift_range = 0.1 #@param {type:\"slider\", min:0, max:1, step:0.01}\n",
        "  horizontal_flip = True #@param {type:\"boolean\"}\n",
        "  vertical_flip = False #@param {type:\"boolean\"}\n",
        "  fill_mode = \"nearest\" #@param [\"nearest\", \"constant\", \"reflect\", \"wrap\"]\n",
        "  cval = 0 #@param {type:\"slider\", min:0, max:255, step:1}"
      ],
      "execution_count": 0,
      "outputs": []
    },
    {
      "metadata": {
        "id": "w3ZbQfBhkKQ_",
        "colab_type": "text"
      },
      "cell_type": "markdown",
      "source": [
        "## 開始訓練模型"
      ]
    },
    {
      "metadata": {
        "id": "dQ8rNZ9Cd7Ba",
        "colab_type": "code",
        "colab": {
          "base_uri": "https://localhost:8080/",
          "height": 568
        },
        "outputId": "0cf6a170-524e-484c-a3ea-cf18a97e1141"
      },
      "cell_type": "code",
      "source": [
        "#@title 默认标题文本 { vertical-output: true }\n",
        "if not data_augmentation:\n",
        "    print('Not using data augmentation.')\n",
        "    model.fit(x_train, y_train,\n",
        "              batch_size=batch_size,\n",
        "              epochs=epochs,\n",
        "              validation_data=(x_test, y_test),\n",
        "              shuffle=True)\n",
        "else:\n",
        "    print('Using real-time data augmentation.')\n",
        "    # This will do preprocessing and realtime data augmentation:\n",
        "    datagen = ImageDataGenerator(\n",
        "        featurewise_center=featurewise_center,  # set input mean to 0 over the dataset\n",
        "        samplewise_center=samplewise_center,  # set each sample mean to 0\n",
        "        featurewise_std_normalization=featurewise_std_normalization,  # divide inputs by std of the dataset\n",
        "        samplewise_std_normalization=samplewise_std_normalization,  # divide each input by its std\n",
        "        rotation_range=rotation_range,  # randomly rotate images in the range (degrees, 0 to 180)\n",
        "        width_shift_range=width_shift_range,  # randomly shift images horizontally (fraction of total width)\n",
        "        height_shift_range=height_shift_range,  # randomly shift images vertically (fraction of total height)\n",
        "        horizontal_flip=horizontal_flip,  # randomly flip images\n",
        "        vertical_flip=vertical_flip,  # randomly flip images\n",
        "        fill_mode=fill_mode,  # fill value method\n",
        "        cval=cval)  ## fill value \n",
        "\n",
        "    # Compute quantities required for feature-wise normalization\n",
        "    # (std, mean, and principal components if ZCA whitening is applied).\n",
        "    datagen.fit(x_train)\n",
        "\n",
        "    # Fit the model on the batches generated by datagen.flow().\n",
        "    model.fit_generator(datagen.flow(x_train, y_train,\n",
        "                                     batch_size=batch_size),\n",
        "                        epochs=epochs,\n",
        "                        validation_data=(x_test, y_test))"
      ],
      "execution_count": 29,
      "outputs": [
        {
          "output_type": "stream",
          "text": [
            "Using real-time data augmentation.\n",
            "Epoch 1/15\n",
            "313/313 [==============================] - 16s 50ms/step - loss: 1.8385 - acc: 0.3598 - val_loss: 1.5007 - val_acc: 0.4579\n",
            "Epoch 2/15\n",
            "313/313 [==============================] - 14s 44ms/step - loss: 1.5057 - acc: 0.4610 - val_loss: 1.6194 - val_acc: 0.4398\n",
            "Epoch 3/15\n",
            "187/313 [================>.............] - ETA: 4s - loss: 1.3886 - acc: 0.4987"
          ],
          "name": "stdout"
        },
        {
          "output_type": "stream",
          "text": [
            "313/313 [==============================] - 13s 42ms/step - loss: 1.3777 - acc: 0.5061 - val_loss: 1.6443 - val_acc: 0.4743\n",
            "Epoch 4/15\n",
            "313/313 [==============================] - 13s 43ms/step - loss: 1.2689 - acc: 0.5466 - val_loss: 1.1850 - val_acc: 0.5862\n",
            "Epoch 5/15\n",
            "313/313 [==============================] - 14s 44ms/step - loss: 1.1585 - acc: 0.5845 - val_loss: 1.3392 - val_acc: 0.5485\n",
            "Epoch 6/15\n",
            " 17/313 [>.............................] - ETA: 11s - loss: 1.0967 - acc: 0.5919"
          ],
          "name": "stdout"
        },
        {
          "output_type": "stream",
          "text": [
            "313/313 [==============================] - 13s 43ms/step - loss: 1.0966 - acc: 0.6036 - val_loss: 1.3283 - val_acc: 0.5525\n",
            "Epoch 7/15\n",
            "313/313 [==============================] - 13s 43ms/step - loss: 1.0519 - acc: 0.6278 - val_loss: 1.1691 - val_acc: 0.5828\n",
            "Epoch 8/15\n",
            "292/313 [==========================>...] - ETA: 0s - loss: 0.9981 - acc: 0.6434"
          ],
          "name": "stdout"
        },
        {
          "output_type": "stream",
          "text": [
            "313/313 [==============================] - 13s 42ms/step - loss: 0.9931 - acc: 0.6455 - val_loss: 1.2094 - val_acc: 0.5949\n",
            "Epoch 9/15\n",
            "313/313 [==============================] - 13s 43ms/step - loss: 0.9651 - acc: 0.6633 - val_loss: 0.9173 - val_acc: 0.6759\n",
            "Epoch 10/15\n",
            "313/313 [==============================] - 13s 43ms/step - loss: 0.9241 - acc: 0.6689 - val_loss: 1.0430 - val_acc: 0.6330\n",
            "Epoch 11/15\n",
            " 25/313 [=>............................] - ETA: 10s - loss: 0.8671 - acc: 0.6750"
          ],
          "name": "stdout"
        },
        {
          "output_type": "stream",
          "text": [
            "313/313 [==============================] - 13s 42ms/step - loss: 0.9067 - acc: 0.6793 - val_loss: 0.9702 - val_acc: 0.6688\n",
            "Epoch 12/15\n",
            "313/313 [==============================] - 13s 43ms/step - loss: 0.8676 - acc: 0.6952 - val_loss: 1.0430 - val_acc: 0.6495\n",
            "Epoch 13/15\n",
            "291/313 [==========================>...] - ETA: 0s - loss: 0.8545 - acc: 0.7030"
          ],
          "name": "stdout"
        },
        {
          "output_type": "stream",
          "text": [
            "313/313 [==============================] - 13s 43ms/step - loss: 0.8538 - acc: 0.7025 - val_loss: 0.9062 - val_acc: 0.6908\n",
            "Epoch 14/15\n",
            "313/313 [==============================] - 13s 43ms/step - loss: 0.8300 - acc: 0.7070 - val_loss: 0.8967 - val_acc: 0.6905\n",
            "Epoch 15/15\n",
            "313/313 [==============================] - 13s 42ms/step - loss: 0.8064 - acc: 0.7156 - val_loss: 1.0942 - val_acc: 0.6373\n"
          ],
          "name": "stdout"
        }
      ]
    },
    {
      "metadata": {
        "id": "nZBlMAU7kEwK",
        "colab_type": "text"
      },
      "cell_type": "markdown",
      "source": [
        "## 訓練結果視覺化"
      ]
    },
    {
      "metadata": {
        "id": "-LmUP6gQSR-P",
        "colab_type": "code",
        "colab": {}
      },
      "cell_type": "code",
      "source": [
        "#@title Save Learning Result { vertical-output: true }\n",
        "experiment = \"data augmentation\" #@param {type:\"string\"}\n",
        "\n",
        "model_result['acc'][experiment] = model.model.history.history.get('acc')\n",
        "model_result['val_acc'][experiment] = model.model.history.history.get('val_acc')\n",
        "model_result['loss'][experiment] = model.model.history.history.get('loss')\n",
        "model_result['val_loss'][experiment] = model.model.history.history.get('val_loss')"
      ],
      "execution_count": 0,
      "outputs": []
    },
    {
      "metadata": {
        "id": "XtUqvUzVSU82",
        "colab_type": "code",
        "colab": {
          "base_uri": "https://localhost:8080/",
          "height": 1417
        },
        "outputId": "d6c11261-28fc-4941-9d33-5943cedc989e"
      },
      "cell_type": "code",
      "source": [
        "#@title Model Result { vertical-output: true }\n",
        "import matplotlib.pyplot as plt\n",
        "\n",
        "# training loss\n",
        "for i in model_result['loss'].keys():\n",
        "  plt.plot(np.arange(len(model_result['loss'][i])), model_result['loss'][i], label = i)\n",
        "\n",
        "plt.legend(loc='best')\n",
        "plt.title('loss')\n",
        "plt.show()\n",
        "\n",
        "# training acc\n",
        "for i in model_result['acc'].keys():\n",
        "  plt.plot(np.arange(len(model_result['acc'][i])), model_result['acc'][i], label = i)\n",
        "\n",
        "plt.legend(loc='best')\n",
        "plt.title('acc')\n",
        "plt.show()\n",
        "\n",
        "# valid loss\n",
        "for i in model_result['val_loss'].keys():\n",
        "  plt.plot(np.arange(len(model_result['val_loss'][i])), model_result['val_loss'][i], label = i)\n",
        "\n",
        "plt.legend(loc='best')\n",
        "plt.title('val_loss')\n",
        "plt.show()\n",
        "\n",
        "\n",
        "# valid acc\n",
        "for i in model_result['val_acc'].keys():\n",
        "  plt.plot(np.arange(len(model_result['val_acc'][i])), model_result['val_acc'][i], label = i)\n",
        "\n",
        "plt.legend(loc='best')\n",
        "plt.title('val_acc')\n",
        "plt.show()"
      ],
      "execution_count": 31,
      "outputs": [
        {
          "output_type": "display_data",
          "data": {
            "image/png": "[encoded data removed]",
            "text/plain": [
              "<matplotlib.figure.Figure at 0x7fb9aa087198>"
            ]
          },
          "metadata": {
            "tags": []
          }
        },
        {
          "output_type": "display_data",
          "data": {
            "image/png": "[encoded data removed]",
            "text/plain": [
              "<matplotlib.figure.Figure at 0x7fb9aa087940>"
            ]
          },
          "metadata": {
            "tags": []
          }
        },
        {
          "output_type": "display_data",
          "data": {
            "image/png": "[encoded data removed]",
            "text/plain": [
              "<matplotlib.figure.Figure at 0x7fb9b49a0b00>"
            ]
          },
          "metadata": {
            "tags": []
          }
        },
        {
          "output_type": "display_data",
          "data": {
            "image/png": "[encoded data removed]",
            "text/plain": [
              "<matplotlib.figure.Figure at 0x7fb9b493ef60>"
            ]
          },
          "metadata": {
            "tags": []
          }
        }
      ]
    },
    {
      "metadata": {
        "id": "wk6elT6ogjA3",
        "colab_type": "code",
        "colab": {}
      },
      "cell_type": "code",
      "source": [
        ""
      ],
      "execution_count": 0,
      "outputs": []
    }
  ]
}